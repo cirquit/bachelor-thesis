{
 "cells": [
  {
   "cell_type": "markdown",
   "metadata": {},
   "source": [
    "Creating Discrete Cosine Transform showcase for correlated state compression"
   ]
  },
  {
   "cell_type": "code",
   "execution_count": 1,
   "metadata": {
    "collapsed": true
   },
   "outputs": [],
   "source": [
    "%matplotlib inline\n",
    "import matplotlib.pyplot as plt\n",
    "from mpl_toolkits.axes_grid1 import AxesGrid\n",
    "import numpy as np\n",
    "from scipy.fftpack import dct, idct"
   ]
  },
  {
   "cell_type": "markdown",
   "metadata": {},
   "source": [
    "Our state space is between [0-bounds) and we have (dimX * dimY) values"
   ]
  },
  {
   "cell_type": "code",
   "execution_count": 13,
   "metadata": {
    "collapsed": false
   },
   "outputs": [],
   "source": [
    "# feel free to play with these values\n",
    "dimX = 33\n",
    "dimY = 33\n",
    "\n",
    "# data bounds\n",
    "bounds = 10\n",
    "\n",
    "state = 100 * np.random.normal(1, 10, (dimX,dimY))"
   ]
  },
  {
   "cell_type": "markdown",
   "metadata": {},
   "source": [
    "Now we compress these values into (dimX * dimY) / comp_factor DCT coefficents and use Inverse DCT to transform it back to the previous dimensionality"
   ]
  },
  {
   "cell_type": "code",
   "execution_count": 14,
   "metadata": {
    "collapsed": false,
    "scrolled": false
   },
   "outputs": [],
   "source": [
    "# how much compression factor 1 : ?\n",
    "comp_factor = 55"
   ]
  },
  {
   "cell_type": "code",
   "execution_count": 15,
   "metadata": {
    "collapsed": false
   },
   "outputs": [
    {
     "data": {
      "image/png": "[encoded data removed]",
      "text/plain": [
       "<matplotlib.figure.Figure at 0x7f8c5d145f50>"
      ]
     },
     "metadata": {},
     "output_type": "display_data"
    }
   ],
   "source": [
    "\n",
    "\n",
    "# transform the data into DCT coefficients\n",
    "coeff_state = dct(state.flatten())\n",
    "\n",
    "# compress with the comp_factor\n",
    "coeff_len = int((dimX * dimY) / comp_factor)\n",
    "compressed_coeff_state = coeff_state[0:coeff_len]\n",
    "\n",
    "# transform back into data\n",
    "compressed_state = idct(compressed_coeff_state, n = (dimX * dimY))\n",
    "compressed_state = compressed_state.reshape(dimX, dimY)\n",
    "\n",
    "# create a grid to show the plots\n",
    "fig = plt.figure(figsize=(15,15))\n",
    "# update ticks\n",
    "\n",
    "plt.axis('off')\n",
    "grid = AxesGrid(fig, 111,\n",
    "                nrows_ncols=(1, 2),\n",
    "                axes_pad=1.05,\n",
    "                share_all=True,\n",
    "                label_mode=\"all\",\n",
    "                )\n",
    "\n",
    "grid[0].imshow(state, cmap='hot', interpolation='nearest')\n",
    "grid[0].set_xticklabels([])\n",
    "grid[0].set_yticklabels([])\n",
    "\n",
    "\n",
    "grid[1].imshow(compressed_state, cmap='hot', interpolation='nearest')\n",
    "grid[1].set_xticklabels([])\n",
    "grid[1].set_yticklabels([])\n",
    "\n",
    "\n",
    "ind_array = np.arange(0, dimY, 1.0)\n",
    "x, y = np.meshgrid(ind_array, ind_array)\n",
    "\n",
    "#for (i,j,val) in zip(x.flatten(), y.flatten(), state.flatten()):\n",
    "#    grid[2].text(i, j, int(val), va='center', ha='center')\n",
    "\n",
    "#for (i,j,val) in zip(x.flatten(), y.flatten(), compressed_state.flatten()):\n",
    "#    grid[3].text(i, j, int(val) / 1802 , va='center', ha='center')\n",
    "   \n",
    "plt.show()"
   ]
  },
  {
   "cell_type": "markdown",
   "metadata": {
    "collapsed": false
   },
   "source": [
    "`This is the initial data                                This is the reconstruction`"
   ]
  },
  {
   "cell_type": "markdown",
   "metadata": {
    "collapsed": true
   },
   "source": [
    "\n"
   ]
  },
  {
   "cell_type": "code",
   "execution_count": null,
   "metadata": {
    "collapsed": false
   },
   "outputs": [],
   "source": []
  },
  {
   "cell_type": "code",
   "execution_count": null,
   "metadata": {
    "collapsed": true
   },
   "outputs": [],
   "source": []
  }
 ],
 "metadata": {
  "kernelspec": {
   "display_name": "Python 2",
   "language": "python",
   "name": "python2"
  },
  "language_info": {
   "codemirror_mode": {
    "name": "ipython",
    "version": 2
   },
   "file_extension": ".py",
   "mimetype": "text/x-python",
   "name": "python",
   "nbconvert_exporter": "python",
   "pygments_lexer": "ipython2",
   "version": "2.7.10"
  }
 },
 "nbformat": 4,
 "nbformat_minor": 0
}
