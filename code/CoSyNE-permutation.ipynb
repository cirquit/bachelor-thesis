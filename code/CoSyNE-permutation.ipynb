{
 "cells": [
  {
   "cell_type": "code",
   "execution_count": 15,
   "metadata": {
    "collapsed": true
   },
   "outputs": [],
   "source": [
    "import numpy as np"
   ]
  },
  {
   "cell_type": "code",
   "execution_count": 17,
   "metadata": {
    "collapsed": false
   },
   "outputs": [
    {
     "name": "stdout",
     "output_type": "stream",
     "text": [
      "[[   2   40  500 5000]\n",
      " [   1   50  200 1000]\n",
      " [   4   10  300 3000]\n",
      " [   3   30  100 2000]\n",
      " [   5   20  400 4000]]\n"
     ]
    }
   ],
   "source": [
    "i_1 = [1,10,100,1000] # Individuum 1-5\n",
    "i_2 = [2,20,200,2000]\n",
    "i_3 = [3,30,300,3000]\n",
    "i_4 = [4,40,400,4000]\n",
    "i_5 = [5,50,500,5000]\n",
    "\n",
    "population = np.array([i_1, i_2, i_3, i_4, i_5])\n",
    "eigenschaftsraum = np.transpose(population)\n",
    "                \n",
    "for eig in eigenschaftsraum:\n",
    "    np.random.shuffle(eig)\n",
    "\n",
    "population = np.transpose(eigenschaftsraum)\n",
    "\n",
    "print population\n"
   ]
  },
  {
   "cell_type": "code",
   "execution_count": null,
   "metadata": {
    "collapsed": true
   },
   "outputs": [],
   "source": []
  },
  {
   "cell_type": "code",
   "execution_count": null,
   "metadata": {
    "collapsed": true
   },
   "outputs": [],
   "source": []
  },
  {
   "cell_type": "code",
   "execution_count": null,
   "metadata": {
    "collapsed": true
   },
   "outputs": [],
   "source": []
  },
  {
   "cell_type": "code",
   "execution_count": null,
   "metadata": {
    "collapsed": true
   },
   "outputs": [],
   "source": []
  }
 ],
 "metadata": {
  "kernelspec": {
   "display_name": "Python 2",
   "language": "python",
   "name": "python2"
  },
  "language_info": {
   "codemirror_mode": {
    "name": "ipython",
    "version": 2
   },
   "file_extension": ".py",
   "mimetype": "text/x-python",
   "name": "python",
   "nbconvert_exporter": "python",
   "pygments_lexer": "ipython2",
   "version": "2.7.10"
  }
 },
 "nbformat": 4,
 "nbformat_minor": 0
}
