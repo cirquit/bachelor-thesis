{
 "cells": [
  {
   "cell_type": "markdown",
   "metadata": {},
   "source": [
    "Creating Discrete Cosine Transform showcase for correlated state compression"
   ]
  },
  {
   "cell_type": "code",
   "execution_count": 183,
   "metadata": {
    "collapsed": true
   },
   "outputs": [],
   "source": [
    "# %matplotlib inline\n",
    "import matplotlib.pyplot as plt\n",
    "from mpl_toolkits.axes_grid1 import AxesGrid\n",
    "import numpy as np\n",
    "from scipy.fftpack import dct, idct"
   ]
  },
  {
   "cell_type": "markdown",
   "metadata": {},
   "source": [
    "Our state space is between [0-bounds) and we have (dimX * dimY) values"
   ]
  },
  {
   "cell_type": "code",
   "execution_count": 186,
   "metadata": {
    "collapsed": false
   },
   "outputs": [],
   "source": [
    "# feel free to play with these values\n",
    "dimX = 32\n",
    "dimY = 32\n",
    "\n",
    "# data bounds\n",
    "bounds = 100\n",
    "\n",
    "# how much compression factor 1 : ?\n",
    "comp_factor = 45\n",
    "\n",
    "state = 100 * np.random.random((dimX,dimY))                   "
   ]
  },
  {
   "cell_type": "markdown",
   "metadata": {},
   "source": [
    "Now we compress these values into (dimX * dimY) / comp_factor DCT coefficents and use Inverse DCT to transform it back to the previous dimensionality"
   ]
  },
  {
   "cell_type": "code",
   "execution_count": 187,
   "metadata": {
    "collapsed": false
   },
   "outputs": [
    {
     "data": {
      "image/png": "[encoded data removed]",
      "text/plain": [
       "<matplotlib.figure.Figure at 0x7fb0644ebb90>"
      ]
     },
     "metadata": {},
     "output_type": "display_data"
    }
   ],
   "source": [
    "# transform the data into DCT coefficients\n",
    "coeff_state = dct(state.flatten())\n",
    "\n",
    "# compress with the comp_factor\n",
    "coeff_len = int((dimX * dimY) / comp_factor)\n",
    "compressed_coeff_state = coeff_state[0:coeff_len]\n",
    "\n",
    "# transform back into data\n",
    "compressed_state = idct(compressed_coeff_state, n = (dimX * dimY))\n",
    "compressed_state = compressed_state.reshape(dimX, dimY)\n",
    "\n",
    "# compute the error TODO fix me\n",
    "# error_state = ((state.flatten() - (compressed_state.flatten())) / bounds).reshape(dimX, dimY)\n",
    "# error = abs(sum((error_state / bounds).flatten()) / (dimX * dimY))\n",
    "\n",
    "# create a grid to show the plots\n",
    "fig = plt.figure(figsize=(15,15))\n",
    "\n",
    "grid = AxesGrid(fig, 111,\n",
    "                nrows_ncols=(1, 2),\n",
    "                axes_pad=1.05,\n",
    "                share_all=True,\n",
    "                label_mode=\"L\",\n",
    "                )\n",
    "\n",
    "grid[0].imshow(state, cmap='hot', interpolation='nearest')\n",
    "grid[1].imshow(compressed_state, cmap='hot', interpolation='nearest')\n",
    "plt.show()\n",
    "\n",
    "# print \"Error {0}\".format(error)"
   ]
  },
  {
   "cell_type": "markdown",
   "metadata": {},
   "source": [
    "`This is the initial data                                This is the reconstruction`"
   ]
  },
  {
   "cell_type": "code",
   "execution_count": null,
   "metadata": {
    "collapsed": false
   },
   "outputs": [],
   "source": []
  },
  {
   "cell_type": "code",
   "execution_count": null,
   "metadata": {
    "collapsed": true
   },
   "outputs": [],
   "source": []
  }
 ],
 "metadata": {
  "kernelspec": {
   "display_name": "Python 2",
   "language": "python",
   "name": "python2"
  },
  "language_info": {
   "codemirror_mode": {
    "name": "ipython",
    "version": 2
   },
   "file_extension": ".py",
   "mimetype": "text/x-python",
   "name": "python",
   "nbconvert_exporter": "python",
   "pygments_lexer": "ipython2",
   "version": "2.7.10"
  }
 },
 "nbformat": 4,
 "nbformat_minor": 0
}
